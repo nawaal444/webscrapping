{
  "nbformat": 4,
  "nbformat_minor": 0,
  "metadata": {
    "colab": {
      "provenance": [],
      "collapsed_sections": [
        "2h_ht1q5YV9q",
        "zlLyMkKEYfG2",
        "_b30YOyxYmvX",
        "WWi8AQqEWpKr",
        "nQQLSgXFXk4F"
      ]
    },
    "kernelspec": {
      "name": "python3",
      "display_name": "Python 3"
    },
    "language_info": {
      "name": "python"
    }
  },
  "cells": [
    {
      "cell_type": "code",
      "execution_count": null,
      "metadata": {
        "id": "yizLpbrEWlgq"
      },
      "outputs": [],
      "source": [
        "import requests\n",
        "import re\n",
        "from bs4 import BeautifulSoup\n",
        "import pandas as pd\n",
        "from google.colab import files"
      ]
    },
    {
      "cell_type": "markdown",
      "source": [
        "# Lhr-dept"
      ],
      "metadata": {
        "id": "2h_ht1q5YV9q"
      }
    },
    {
      "cell_type": "code",
      "source": [
        "url=\"http://lhr.nu.edu.pk/faculty/\"\n",
        "r=requests.get(url)\n",
        "htmlcontent=r.content\n",
        "# print(htmlcontent)\n",
        "soup= BeautifulSoup(htmlcontent, 'html.parser')\n",
        "# print(soup)\n",
        "# print(soup.prettify)\n",
        "# print(soup.title)\n",
        "# print(soup.title.string)\n",
        "f = soup.findAll('div', class_='facultyCard')\n",
        "# print(f)\n",
        "id_=[]\n",
        "name=[]\n",
        "email=[]\n",
        "dept=[]\n",
        "desig=[]\n",
        "hec=[]\n",
        "ext=[]\n",
        "edu=[]\n",
        "img=[]\n",
        "\n",
        "\n",
        "for i in range(len(f)):\n",
        "    faculty = f[i]\n",
        "    try:\n",
        "        id_.append(int(faculty.find('a',class_='faculty-link')['href'].split('/')[-1]))\n",
        "    except:\n",
        "        id_.append(-1)\n",
        "    name.append(faculty.find('h5', class_='text-center').text)\n",
        "    desig.append(faculty.find('p',class_='small').text.strip().split('\\n')[0])\n",
        "    try:\n",
        "        x=faculty.find('p',class_='small').text.strip().split('\\n')[2]\n",
        "        hec.append(True)\n",
        "    except:\n",
        "        hec.append(False)\n",
        "\n",
        "    email.append(faculty.find('p', class_='mb-0').text)\n",
        "    dept.append(faculty.find('a',class_='faculty-link')['href'].split('/')[1])\n",
        "    img.append('https://lhr.nu.edu.pk'+faculty.find('img', class_='card-img-top')['src'])\n",
        "    xy='https://lhr.nu.edu.pk'+faculty.find('a',class_='faculty-link')['href']\n",
        "    rr=requests.get(xy)\n",
        "    htmlcontent2=rr.content\n",
        "    soup2= BeautifulSoup(htmlcontent2, 'html.parser')\n",
        "    ff=soup2.find('span', class_='small').text.split(':')[1]\n",
        "    ext.append(ff)\n",
        "    xz=soup2.find('div',class_='text-justify')\n",
        "    try:\n",
        "      edu.append(xz.find('li').text)\n",
        "    except:\n",
        "      edu.append(None)\n",
        "df = pd.DataFrame({'ID':id_,\n",
        "                  'Name':name,\n",
        "                  'Designation':desig,\n",
        "                   'HEC Approved Phd Supervisor':hec,\n",
        "                   'Highest Education': edu,\n",
        "                  'Email':email,\n",
        "                   'Department': dept,\n",
        "                   'Extension': ext,\n",
        "                  'Image':img})\n",
        "\n",
        "df.to_csv(\"lhr.csv\",index=False)\n",
        "files.download(\"lhr.csv\")\n",
        "\n"
      ],
      "metadata": {
        "colab": {
          "base_uri": "https://localhost:8080/",
          "height": 17
        },
        "id": "p7EVsA-FYa0u",
        "outputId": "f84895df-ec3e-40ba-9c74-4e67fb8d2c1e"
      },
      "execution_count": null,
      "outputs": [
        {
          "output_type": "display_data",
          "data": {
            "text/plain": [
              "<IPython.core.display.Javascript object>"
            ],
            "application/javascript": [
              "\n",
              "    async function download(id, filename, size) {\n",
              "      if (!google.colab.kernel.accessAllowed) {\n",
              "        return;\n",
              "      }\n",
              "      const div = document.createElement('div');\n",
              "      const label = document.createElement('label');\n",
              "      label.textContent = `Downloading \"${filename}\": `;\n",
              "      div.appendChild(label);\n",
              "      const progress = document.createElement('progress');\n",
              "      progress.max = size;\n",
              "      div.appendChild(progress);\n",
              "      document.body.appendChild(div);\n",
              "\n",
              "      const buffers = [];\n",
              "      let downloaded = 0;\n",
              "\n",
              "      const channel = await google.colab.kernel.comms.open(id);\n",
              "      // Send a message to notify the kernel that we're ready.\n",
              "      channel.send({})\n",
              "\n",
              "      for await (const message of channel.messages) {\n",
              "        // Send a message to notify the kernel that we're ready.\n",
              "        channel.send({})\n",
              "        if (message.buffers) {\n",
              "          for (const buffer of message.buffers) {\n",
              "            buffers.push(buffer);\n",
              "            downloaded += buffer.byteLength;\n",
              "            progress.value = downloaded;\n",
              "          }\n",
              "        }\n",
              "      }\n",
              "      const blob = new Blob(buffers, {type: 'application/binary'});\n",
              "      const a = document.createElement('a');\n",
              "      a.href = window.URL.createObjectURL(blob);\n",
              "      a.download = filename;\n",
              "      div.appendChild(a);\n",
              "      a.click();\n",
              "      div.remove();\n",
              "    }\n",
              "  "
            ]
          },
          "metadata": {}
        },
        {
          "output_type": "display_data",
          "data": {
            "text/plain": [
              "<IPython.core.display.Javascript object>"
            ],
            "application/javascript": [
              "download(\"download_e160e78b-225f-4ce8-9a28-a97dee4d1f2b\", \"lhr.csv\", 36968)"
            ]
          },
          "metadata": {}
        }
      ]
    },
    {
      "cell_type": "markdown",
      "source": [
        "# Khi-dept"
      ],
      "metadata": {
        "id": "zlLyMkKEYfG2"
      }
    },
    {
      "cell_type": "code",
      "source": [
        "url2='https://khi.nu.edu.pk/'\n",
        "r2=requests.get(url2)\n",
        "html2=r2.content\n",
        "soup22=BeautifulSoup(html2,'html.parser')\n",
        "f2=soup22.find('div',class_='kingster-main-menu')\n",
        "f22=f2.find('ul',class_='sf-menu')\n",
        "f222=f22.findAll('li',class_='menu-item-type-custom')\n",
        "obj=f222[8]\n",
        "newobj=obj.findAll('li','menu-item-type-post_type')\n",
        "dfs=[]\n",
        "# this new newobj object has a list of all 7 disciplines (departements) now\n",
        "for i in range(len(newobj)):\n",
        "  id_=[]\n",
        "  name=[]\n",
        "  email=[]\n",
        "  dept=[]\n",
        "  desig=[]\n",
        "  hec=[]\n",
        "  ext=[]\n",
        "  edu=[]\n",
        "  img=[]\n",
        "  null=0\n",
        "  newurl=newobj[i].find('a')['href']\n",
        "  r=requests.get(newurl)\n",
        "  html=r.content\n",
        "  soup=BeautifulSoup(html,'html.parser')\n",
        "  f=soup.findAll('div',class_='gdlr-core-personnel-list')\n",
        "  for j in range(len(f)):\n",
        "    faculty=f[j]\n",
        "    x=faculty.find('h3',class_='gdlr-core-personnel-list-title')\n",
        "    name.append(x.find('a').text.split(',')[0])\n",
        "    x=faculty.find('div',class_='kingster-personnel-info-list kingster-type-email').text\n",
        "    if('@' in x):\n",
        "      email.append(x)\n",
        "    else:\n",
        "      email.append(None)\n",
        "    ext.append(faculty.find('div',class_='kingster-personnel-info-list kingster-type-phone').text)\n",
        "    desig.append(faculty.find('div',class_='gdlr-core-personnel-list-position gdlr-core-info-font gdlr-core-skin-caption').text)\n",
        "    yz=faculty.find('div',class_='gdlr-core-media-image')\n",
        "    try:\n",
        "      img.append(yz.find('img')['src'])\n",
        "    except:\n",
        "      img.append(None)\n",
        "    link=faculty.find('a',class_='gdlr-core-personnel-list-button gdlr-core-button')['href']\n",
        "    rr=requests.get(link)\n",
        "    htmll=rr.content\n",
        "    soup2=BeautifulSoup(htmll,'html.parser')\n",
        "    xx=soup2.find('span',class_='gdlr-core-title-item-caption gdlr-core-info-font gdlr-core-skin-caption').text.split('\\n')\n",
        "    if(len(xx)==3 and xx[2].lower()=='hec approved phd supervisor'):\n",
        "      hec.append(True)\n",
        "    else:\n",
        "      hec.append(False)\n",
        "\n",
        "    js_code=soup2.find('script', id='burst-js-extra').text\n",
        "    pattern = r'\"page_id\":\"(\\d+)\"'\n",
        "    match = re.search(pattern, js_code)\n",
        "    if match:\n",
        "      page_id = match.group(1)  # Extract the captured value\n",
        "      id_.append(page_id)\n",
        "    else:\n",
        "      id_.append(None)\n",
        "\n",
        "\n",
        "\n",
        "    try:\n",
        "      extra=0\n",
        "      xxx=soup2.find('span',class_='gdlr-core-icon-list-content')\n",
        "      pattern = r'\\b(BS|MS|MCS|MPhil|PhD|ME|BE|PostDoc)\\b'\n",
        "      match = re.search(pattern, xxx.text)\n",
        "      if match:\n",
        "       edu.append(soup2.find('span',class_='gdlr-core-icon-list-content').text)\n",
        "      else:\n",
        "        xxx1=soup2.findAll('span',class_='gdlr-core-icon-list-content')\n",
        "        pattern = r'\\b(BS|MS|MCS|MPhil|PhD|ME|BE|PostDoc)\\b'\n",
        "        for span_element in xxx1:\n",
        "          match = re.search(pattern, span_element.text)\n",
        "          if match:\n",
        "            edu.append(span_element.text)\n",
        "            extra=1\n",
        "            null=1\n",
        "            break\n",
        "        if(null!=1):\n",
        "          xxx1=soup2.findAll('span',class_='gdlr-core-title-item-caption')\n",
        "          pattern = r'\\b(BS|MS|MCS|MPhil|PhD|ME|BE|PostDoc)\\b'\n",
        "          for span_element in xxx1:\n",
        "            match= re.search(pattern,span_element.text)\n",
        "            if match:\n",
        "              edu.append(span_element.text)\n",
        "              extra=1\n",
        "              break\n",
        "        if(extra==0):\n",
        "          edu.append(None)\n",
        "    except:\n",
        "      edu.append(None)\n",
        "\n",
        "    if(newurl.split(\"/\")[3]=='faculty-php'):\n",
        "      dept.append('fsc')\n",
        "    elif(newurl.split(\"/\")[3]=='department-of-cyber-security'):\n",
        "      dept.append('cys')\n",
        "    elif(newurl.split(\"/\")[3]=='department-of-artificial-intelligence'):\n",
        "      dept.append('ai')\n",
        "    elif(newurl.split(\"/\")[3]=='department-of-software-engineering'):\n",
        "      dept.append('se')\n",
        "    elif(newurl.split(\"/\")[3]=='department-of-electrical-engineering'):\n",
        "      dept.append('ee')\n",
        "    elif(newurl.split(\"/\")[3]=='department-of-management-sciences'):\n",
        "      dept.append('fsm')\n",
        "    elif(newurl.split(\"/\")[3]=='department-of-sciences-humanities'):\n",
        "      dept.append('ss')\n",
        "    else:\n",
        "      dept.append(None)\n",
        "# print(len(id_),len(name),len(desig),len(hec),len(edu),len(email),len(dept),len(ext),len(img))\n",
        "  df=pd.DataFrame({'ID':id_,\n",
        "                  'Name':name,\n",
        "                  'Designation':desig,\n",
        "                   'HEC Approved Phd Supervisor':hec,\n",
        "                   'Highest Education': edu,\n",
        "                  'Email':email,\n",
        "                   'Department': dept,\n",
        "                   'Extension': ext,\n",
        "                  'Image':img})\n",
        "  dfs.append(df)\n",
        "big_df = pd.concat(dfs, ignore_index=True)\n",
        "big_df.to_csv(\"khi.csv\",index=False)\n",
        "files.download(\"khi.csv\")\n"
      ],
      "metadata": {
        "colab": {
          "base_uri": "https://localhost:8080/",
          "height": 17
        },
        "id": "q5rltV3EYh8Q",
        "outputId": "a6af960c-2634-440f-b6be-bd7af7be98f7"
      },
      "execution_count": null,
      "outputs": [
        {
          "output_type": "display_data",
          "data": {
            "text/plain": [
              "<IPython.core.display.Javascript object>"
            ],
            "application/javascript": [
              "\n",
              "    async function download(id, filename, size) {\n",
              "      if (!google.colab.kernel.accessAllowed) {\n",
              "        return;\n",
              "      }\n",
              "      const div = document.createElement('div');\n",
              "      const label = document.createElement('label');\n",
              "      label.textContent = `Downloading \"${filename}\": `;\n",
              "      div.appendChild(label);\n",
              "      const progress = document.createElement('progress');\n",
              "      progress.max = size;\n",
              "      div.appendChild(progress);\n",
              "      document.body.appendChild(div);\n",
              "\n",
              "      const buffers = [];\n",
              "      let downloaded = 0;\n",
              "\n",
              "      const channel = await google.colab.kernel.comms.open(id);\n",
              "      // Send a message to notify the kernel that we're ready.\n",
              "      channel.send({})\n",
              "\n",
              "      for await (const message of channel.messages) {\n",
              "        // Send a message to notify the kernel that we're ready.\n",
              "        channel.send({})\n",
              "        if (message.buffers) {\n",
              "          for (const buffer of message.buffers) {\n",
              "            buffers.push(buffer);\n",
              "            downloaded += buffer.byteLength;\n",
              "            progress.value = downloaded;\n",
              "          }\n",
              "        }\n",
              "      }\n",
              "      const blob = new Blob(buffers, {type: 'application/binary'});\n",
              "      const a = document.createElement('a');\n",
              "      a.href = window.URL.createObjectURL(blob);\n",
              "      a.download = filename;\n",
              "      div.appendChild(a);\n",
              "      a.click();\n",
              "      div.remove();\n",
              "    }\n",
              "  "
            ]
          },
          "metadata": {}
        },
        {
          "output_type": "display_data",
          "data": {
            "text/plain": [
              "<IPython.core.display.Javascript object>"
            ],
            "application/javascript": [
              "download(\"download_2c055f9f-7a4f-44c9-957a-978050d355b9\", \"khi.csv\", 26387)"
            ]
          },
          "metadata": {}
        }
      ]
    },
    {
      "cell_type": "markdown",
      "source": [
        "# Isb-dept"
      ],
      "metadata": {
        "id": "_b30YOyxYmvX"
      }
    },
    {
      "cell_type": "code",
      "source": [
        "# %cd sample_data\n",
        "HTMLFile = open(\"FAST NUCES Islamabad.html\", \"r\")\n",
        "index = HTMLFile.read()\n",
        "soup=BeautifulSoup(index,'html.parser')\n",
        "# print(soup)\n",
        "x=soup.findAll('div',class_='our-team')\n",
        "id_=[]\n",
        "name=[]\n",
        "email=[]\n",
        "dept=[]\n",
        "desig=[]\n",
        "hec=[]\n",
        "ext=[]\n",
        "edu=[]\n",
        "img=[]\n",
        "for xx in x:\n",
        "  xxx=xx.find('h3',class_='title').text.strip()\n",
        "  name.append(xxx)\n",
        "  y=xx.find('span',class_='post').text.strip()\n",
        "  desig.append(y)\n",
        "  yy=xx.find('p').text.strip()\n",
        "  email.append(yy)\n",
        "  y=xx.find('img')['id']\n",
        "  id_.append(y[-4:])\n",
        "  yy=xx.find('img')['src']\n",
        "  y=yy.replace(' ','')\n",
        "  img.append('http://isb.nu.edu.pk'+y)\n",
        "  y=xx.parent\n",
        "  yy=y.parent\n",
        "  newid=yy.get('id')\n",
        "  if(newid=='facultyCS'):\n",
        "    dept.append('fsc')\n",
        "  elif(newid=='facultyEE'):\n",
        "    dept.append('ee')\n",
        "  elif(newid=='facultyMS'):\n",
        "    dept.append('fsm')\n",
        "  elif(newid=='facultySH'):\n",
        "    dept.append('ss')\n",
        "  # try:\n",
        "  #   yyy=soup.find('div',class_=\"img-thumbnail\").img[\"src\"]\n",
        "  #   print(yyy)\n",
        "  # except:\n",
        "  #   print(None)\n",
        "  y=xx.find('a')['href']\n",
        "  r=requests.get(y)\n",
        "  html=r.content\n",
        "  soup2=BeautifulSoup(html,'html.parser')\n",
        "  x=soup2.find('i',class_='fa-phone')\n",
        "  xxx=x.parent\n",
        "  try:\n",
        "    y=xxx.find('span').text.split(': ')[1]\n",
        "    ext.append(y)\n",
        "  except:\n",
        "    ext.append(None)\n",
        "  x=soup2.find('div',class_='profile-info')\n",
        "  desired_style = {\"style\": \"font-size:9pt;\"}\n",
        "  try:\n",
        "    xx = x.find('label', attrs=desired_style).text\n",
        "    hec.append(True)\n",
        "  except:\n",
        "    hec.append(False)\n",
        "  edu.append(None)\n",
        "\n",
        "  df = pd.DataFrame({'ID':id_,\n",
        "                  'Name':name,\n",
        "                  'Designation':desig,\n",
        "                   'HEC Approved Phd Supervisor':hec,\n",
        "                   'Highest Education': edu,\n",
        "                  'Email':email,\n",
        "                   'Department': dept,\n",
        "                   'Extension': ext,\n",
        "                  'Image':img})\n",
        "\n",
        "df.to_csv(\"isb.csv\",index=False)\n",
        "files.download(\"isb.csv\")\n"
      ],
      "metadata": {
        "colab": {
          "base_uri": "https://localhost:8080/",
          "height": 17
        },
        "id": "KgmoqcSRYpFm",
        "outputId": "cf0e7e86-2dca-49c2-d011-77c3ed58e32b"
      },
      "execution_count": null,
      "outputs": [
        {
          "output_type": "display_data",
          "data": {
            "text/plain": [
              "<IPython.core.display.Javascript object>"
            ],
            "application/javascript": [
              "\n",
              "    async function download(id, filename, size) {\n",
              "      if (!google.colab.kernel.accessAllowed) {\n",
              "        return;\n",
              "      }\n",
              "      const div = document.createElement('div');\n",
              "      const label = document.createElement('label');\n",
              "      label.textContent = `Downloading \"${filename}\": `;\n",
              "      div.appendChild(label);\n",
              "      const progress = document.createElement('progress');\n",
              "      progress.max = size;\n",
              "      div.appendChild(progress);\n",
              "      document.body.appendChild(div);\n",
              "\n",
              "      const buffers = [];\n",
              "      let downloaded = 0;\n",
              "\n",
              "      const channel = await google.colab.kernel.comms.open(id);\n",
              "      // Send a message to notify the kernel that we're ready.\n",
              "      channel.send({})\n",
              "\n",
              "      for await (const message of channel.messages) {\n",
              "        // Send a message to notify the kernel that we're ready.\n",
              "        channel.send({})\n",
              "        if (message.buffers) {\n",
              "          for (const buffer of message.buffers) {\n",
              "            buffers.push(buffer);\n",
              "            downloaded += buffer.byteLength;\n",
              "            progress.value = downloaded;\n",
              "          }\n",
              "        }\n",
              "      }\n",
              "      const blob = new Blob(buffers, {type: 'application/binary'});\n",
              "      const a = document.createElement('a');\n",
              "      a.href = window.URL.createObjectURL(blob);\n",
              "      a.download = filename;\n",
              "      div.appendChild(a);\n",
              "      a.click();\n",
              "      div.remove();\n",
              "    }\n",
              "  "
            ]
          },
          "metadata": {}
        },
        {
          "output_type": "display_data",
          "data": {
            "text/plain": [
              "<IPython.core.display.Javascript object>"
            ],
            "application/javascript": [
              "download(\"download_4c07544c-69da-4b39-8bf7-ed1326b1e3ab\", \"isb.csv\", 26873)"
            ]
          },
          "metadata": {}
        }
      ]
    },
    {
      "cell_type": "markdown",
      "source": [
        "\n",
        "\n",
        "# Step2"
      ],
      "metadata": {
        "id": "WWi8AQqEWpKr"
      }
    },
    {
      "cell_type": "code",
      "source": [
        "df1 = pd.read_csv('lhr.csv')\n",
        "df2 = pd.read_csv('khi.csv')\n",
        "df3 = pd.read_csv('isb.csv')\n",
        "combined_df = pd.concat([df1, df2, df3], axis=0)\n",
        "# print(combined_df)\n",
        "combined_df.to_csv('fast_faculty.csv', index=False)\n",
        "files.download(\"fast_faculty.csv\")\n",
        "\n"
      ],
      "metadata": {
        "colab": {
          "base_uri": "https://localhost:8080/",
          "height": 17
        },
        "id": "YmSU7r8EWs7T",
        "outputId": "ab43bd77-ecc0-413d-a239-6dd7d305c793"
      },
      "execution_count": null,
      "outputs": [
        {
          "output_type": "display_data",
          "data": {
            "text/plain": [
              "<IPython.core.display.Javascript object>"
            ],
            "application/javascript": [
              "\n",
              "    async function download(id, filename, size) {\n",
              "      if (!google.colab.kernel.accessAllowed) {\n",
              "        return;\n",
              "      }\n",
              "      const div = document.createElement('div');\n",
              "      const label = document.createElement('label');\n",
              "      label.textContent = `Downloading \"${filename}\": `;\n",
              "      div.appendChild(label);\n",
              "      const progress = document.createElement('progress');\n",
              "      progress.max = size;\n",
              "      div.appendChild(progress);\n",
              "      document.body.appendChild(div);\n",
              "\n",
              "      const buffers = [];\n",
              "      let downloaded = 0;\n",
              "\n",
              "      const channel = await google.colab.kernel.comms.open(id);\n",
              "      // Send a message to notify the kernel that we're ready.\n",
              "      channel.send({})\n",
              "\n",
              "      for await (const message of channel.messages) {\n",
              "        // Send a message to notify the kernel that we're ready.\n",
              "        channel.send({})\n",
              "        if (message.buffers) {\n",
              "          for (const buffer of message.buffers) {\n",
              "            buffers.push(buffer);\n",
              "            downloaded += buffer.byteLength;\n",
              "            progress.value = downloaded;\n",
              "          }\n",
              "        }\n",
              "      }\n",
              "      const blob = new Blob(buffers, {type: 'application/binary'});\n",
              "      const a = document.createElement('a');\n",
              "      a.href = window.URL.createObjectURL(blob);\n",
              "      a.download = filename;\n",
              "      div.appendChild(a);\n",
              "      a.click();\n",
              "      div.remove();\n",
              "    }\n",
              "  "
            ]
          },
          "metadata": {}
        },
        {
          "output_type": "display_data",
          "data": {
            "text/plain": [
              "<IPython.core.display.Javascript object>"
            ],
            "application/javascript": [
              "download(\"download_a64ccc6e-6cac-4c47-a6f5-b0513586e9c6\", \"fast_faculty.csv\", 90414)"
            ]
          },
          "metadata": {}
        }
      ]
    },
    {
      "cell_type": "markdown",
      "source": [
        "\n",
        "# Step3"
      ],
      "metadata": {
        "id": "nQQLSgXFXk4F"
      }
    },
    {
      "cell_type": "code",
      "source": [
        "faculty=pd.read_csv('fast_faculty.csv')\n",
        "sample_ = faculty.sample(frac=0.5)\n",
        "sample_.to_csv('sample_.csv',index=False)\n",
        "files.download('sample_.csv')"
      ],
      "metadata": {
        "colab": {
          "base_uri": "https://localhost:8080/",
          "height": 17
        },
        "id": "vNnL4555Xo1w",
        "outputId": "5f1f487a-8f07-4c8c-da06-e06535f2c07a"
      },
      "execution_count": null,
      "outputs": [
        {
          "output_type": "display_data",
          "data": {
            "text/plain": [
              "<IPython.core.display.Javascript object>"
            ],
            "application/javascript": [
              "\n",
              "    async function download(id, filename, size) {\n",
              "      if (!google.colab.kernel.accessAllowed) {\n",
              "        return;\n",
              "      }\n",
              "      const div = document.createElement('div');\n",
              "      const label = document.createElement('label');\n",
              "      label.textContent = `Downloading \"${filename}\": `;\n",
              "      div.appendChild(label);\n",
              "      const progress = document.createElement('progress');\n",
              "      progress.max = size;\n",
              "      div.appendChild(progress);\n",
              "      document.body.appendChild(div);\n",
              "\n",
              "      const buffers = [];\n",
              "      let downloaded = 0;\n",
              "\n",
              "      const channel = await google.colab.kernel.comms.open(id);\n",
              "      // Send a message to notify the kernel that we're ready.\n",
              "      channel.send({})\n",
              "\n",
              "      for await (const message of channel.messages) {\n",
              "        // Send a message to notify the kernel that we're ready.\n",
              "        channel.send({})\n",
              "        if (message.buffers) {\n",
              "          for (const buffer of message.buffers) {\n",
              "            buffers.push(buffer);\n",
              "            downloaded += buffer.byteLength;\n",
              "            progress.value = downloaded;\n",
              "          }\n",
              "        }\n",
              "      }\n",
              "      const blob = new Blob(buffers, {type: 'application/binary'});\n",
              "      const a = document.createElement('a');\n",
              "      a.href = window.URL.createObjectURL(blob);\n",
              "      a.download = filename;\n",
              "      div.appendChild(a);\n",
              "      a.click();\n",
              "      div.remove();\n",
              "    }\n",
              "  "
            ]
          },
          "metadata": {}
        },
        {
          "output_type": "display_data",
          "data": {
            "text/plain": [
              "<IPython.core.display.Javascript object>"
            ],
            "application/javascript": [
              "download(\"download_e44fcf98-f113-4b20-b0d5-ca3a8e149667\", \"sample_.csv\", 45250)"
            ]
          },
          "metadata": {}
        }
      ]
    }
  ]
}